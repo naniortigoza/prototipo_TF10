{
  "nbformat": 4,
  "nbformat_minor": 0,
  "metadata": {
    "colab": {
      "provenance": [],
      "authorship_tag": "ABX9TyMQAsb25wJRMQD62TibGej5",
      "include_colab_link": true
    },
    "kernelspec": {
      "name": "python3",
      "display_name": "Python 3"
    },
    "language_info": {
      "name": "python"
    }
  },
  "cells": [
    {
      "cell_type": "markdown",
      "metadata": {
        "id": "view-in-github",
        "colab_type": "text"
      },
      "source": [
        "<a href=\"https://colab.research.google.com/github/naniortigoza/prototipo_TF10/blob/master/prototipo_TF10.ipynb\" target=\"_parent\"><img src=\"https://colab.research.google.com/assets/colab-badge.svg\" alt=\"Open In Colab\"/></a>"
      ]
    },
    {
      "cell_type": "markdown",
      "source": [
        "## Instalación de Hadoop"
      ],
      "metadata": {
        "id": "NaUc1RBtOg7b"
      }
    },
    {
      "cell_type": "code",
      "execution_count": null,
      "metadata": {
        "id": "3fItIvtuztRA"
      },
      "outputs": [],
      "source": [
        "# Descarga Hadoop\n",
        "!wget https://downloads.apache.org/hadoop/common/hadoop-3.3.6/hadoop-3.3.6.tar.gz"
      ]
    },
    {
      "cell_type": "code",
      "source": [
        "# Descomprime el archivo\n",
        "!tar -xzvf hadoop-3.3.6.tar.gz"
      ],
      "metadata": {
        "id": "CtOEpXyW0kAj"
      },
      "execution_count": null,
      "outputs": []
    },
    {
      "cell_type": "code",
      "source": [
        "# Elimina el archivo comprimido\n",
        "!rm hadoop-3.3.6.tar.gz"
      ],
      "metadata": {
        "id": "qLc_YgSP0pwO"
      },
      "execution_count": 3,
      "outputs": []
    },
    {
      "cell_type": "code",
      "source": [
        "# Encuentra la ruta de Java\n",
        "!readlink -f /usr/bin/java | sed \"s:bin/java::\""
      ],
      "metadata": {
        "id": "2tA1fKA60yBl",
        "colab": {
          "base_uri": "https://localhost:8080/"
        },
        "outputId": "f9abcb7e-eb61-4ab8-a5ca-595d4d750e25"
      },
      "execution_count": 4,
      "outputs": [
        {
          "output_type": "stream",
          "name": "stdout",
          "text": [
            "/usr/lib/jvm/java-11-openjdk-amd64/\n"
          ]
        }
      ]
    },
    {
      "cell_type": "code",
      "source": [
        "# Configura la variable de entorno JAVA_HOME\n",
        "import os\n",
        "os.environ[\"JAVA_HOME\"] = \"/usr/lib/jvm/java-11-openjdk-amd64/\""
      ],
      "metadata": {
        "id": "AqIUyd6Q3XYz"
      },
      "execution_count": 5,
      "outputs": []
    },
    {
      "cell_type": "code",
      "source": [
        "# Copia Hadoop a /usr/local\n",
        "!cp -r hadoop-3.3.6/ /usr/local/"
      ],
      "metadata": {
        "id": "rVI72AXB01oS"
      },
      "execution_count": 6,
      "outputs": []
    },
    {
      "cell_type": "code",
      "source": [
        "# Genera una clave SSH para la comunicación segura entre los nodos del clúster\n",
        "!ssh-keygen -t rsa -P '' -f ~/.ssh/id_rsa\n",
        "# Agrega la clave pública SSH a authorized_keys\n",
        "!cat ~/.ssh/id_rsa.pub >> ~/.ssh/authorized_keys\n",
        "# Cambia los permisos de authorized_keys\n",
        "!chmod 0600 ~/.ssh/authorized_keys"
      ],
      "metadata": {
        "id": "u3jj3Ytr2sBg",
        "colab": {
          "base_uri": "https://localhost:8080/"
        },
        "outputId": "3dbcdaef-b5ee-49f7-e7d2-3c06b002b8e2"
      },
      "execution_count": 7,
      "outputs": [
        {
          "output_type": "stream",
          "name": "stdout",
          "text": [
            "Generating public/private rsa key pair.\n",
            "Created directory '/root/.ssh'.\n",
            "Your identification has been saved in /root/.ssh/id_rsa\n",
            "Your public key has been saved in /root/.ssh/id_rsa.pub\n",
            "The key fingerprint is:\n",
            "SHA256:Fw8mCBYWyOSsiFzgNInmW/Btccac3AguswHbz3IKbkU root@3e43227898ef\n",
            "The key's randomart image is:\n",
            "+---[RSA 3072]----+\n",
            "|.Bo.*+= +        |\n",
            "|+*Oo.o X .       |\n",
            "|oo=E..= . +      |\n",
            "|+oooBo   o +     |\n",
            "|+oo+.+  S . .    |\n",
            "|..o +    .       |\n",
            "| o .             |\n",
            "|.                |\n",
            "|                 |\n",
            "+----[SHA256]-----+\n"
          ]
        }
      ]
    },
    {
      "cell_type": "code",
      "source": [
        "# Formatea el NameNode\n",
        "!/usr/local/hadoop-3.3.6/bin/hdfs namenode -format"
      ],
      "metadata": {
        "id": "zTdvpO_I2vkJ"
      },
      "execution_count": null,
      "outputs": []
    },
    {
      "cell_type": "code",
      "source": [
        "# Inicia servicios de Hadoop y YARN\n",
        "%%bash\n",
        "/usr/local/hadoop-3.3.6/bin/hdfs --daemon start namenode && /usr/local/hadoop-3.3.6/bin/hdfs --daemon start datanode\n",
        "/usr/local/hadoop-3.3.6/bin/yarn --daemon start resourcemanager && /usr/local/hadoop-3.3.6/bin/yarn --daemon start nodemanager"
      ],
      "metadata": {
        "id": "PlESNshD28U8"
      },
      "execution_count": 9,
      "outputs": []
    },
    {
      "cell_type": "code",
      "source": [
        "# Verifica los procesos en ejecución\n",
        "!jps"
      ],
      "metadata": {
        "id": "bKbHxa0X3g03",
        "colab": {
          "base_uri": "https://localhost:8080/"
        },
        "outputId": "8c361ae2-fd4c-42fd-eeb3-8f19e75308e5"
      },
      "execution_count": 10,
      "outputs": [
        {
          "output_type": "stream",
          "name": "stdout",
          "text": [
            "772 ResourceManager\n",
            "838 NodeManager\n",
            "710 DataNode\n",
            "875 Jps\n"
          ]
        }
      ]
    },
    {
      "cell_type": "markdown",
      "source": [
        "## Clonar el repositorio GitHub\n",
        "Que contiene: Preparación de los Datos, Entrenamiento del Modelo, Evaluación del Modelo, Predicciones y Exportación de Resultados"
      ],
      "metadata": {
        "id": "DM3XDqQGQfeO"
      }
    },
    {
      "cell_type": "code",
      "source": [
        "# Clona un repositorio de GitHub\n",
        "!git clone https://github.com/naniortigoza/prototipo_TF10.git"
      ],
      "metadata": {
        "id": "Cuyj8_93P5Iz",
        "colab": {
          "base_uri": "https://localhost:8080/"
        },
        "outputId": "49f4c752-6eb5-44f2-d674-23ba8f6a020c"
      },
      "execution_count": 11,
      "outputs": [
        {
          "output_type": "stream",
          "name": "stdout",
          "text": [
            "Cloning into 'prototipo_TF10'...\n",
            "remote: Enumerating objects: 145, done.\u001b[K\n",
            "remote: Counting objects: 100% (145/145), done.\u001b[K\n",
            "remote: Compressing objects: 100% (112/112), done.\u001b[K\n",
            "remote: Total 145 (delta 81), reused 91 (delta 31), pack-reused 0\u001b[K\n",
            "Receiving objects: 100% (145/145), 226.89 KiB | 673.00 KiB/s, done.\n",
            "Resolving deltas: 100% (81/81), done.\n"
          ]
        }
      ]
    },
    {
      "cell_type": "code",
      "source": [
        "# Cambia el directorio de trabajo actual a la carpeta recién clonada\n",
        "%cd prototipo_TF10/"
      ],
      "metadata": {
        "colab": {
          "base_uri": "https://localhost:8080/"
        },
        "id": "XO_mxZsuQzE5",
        "outputId": "66b34361-cfbe-4424-dc2a-c33dbb781f7e"
      },
      "execution_count": 12,
      "outputs": [
        {
          "output_type": "stream",
          "name": "stdout",
          "text": [
            "/content/prototipo_TF10\n"
          ]
        }
      ]
    },
    {
      "cell_type": "code",
      "source": [
        "# Instala paquetes Python necesarios\n",
        "!pip install faker\n",
        "!pip install requests\n",
        "!pip install demoji\n",
        "!pip install pandas\n",
        "!pip install Unidecode\n",
        "!pip install beautifulsoup4\n",
        "!pip install scikit-learn==1.3.0\n",
        "!pip install hdfs"
      ],
      "metadata": {
        "id": "CoEoEYyBQ4Nv",
        "colab": {
          "base_uri": "https://localhost:8080/"
        },
        "outputId": "24f45d49-d83b-4193-b8b7-685414a7a8a5"
      },
      "execution_count": 13,
      "outputs": [
        {
          "output_type": "stream",
          "name": "stdout",
          "text": [
            "Collecting faker\n",
            "  Downloading Faker-19.6.1-py3-none-any.whl (1.7 MB)\n",
            "\u001b[2K     \u001b[90m━━━━━━━━━━━━━━━━━━━━━━━━━━━━━━━━━━━━━━━━\u001b[0m \u001b[32m1.7/1.7 MB\u001b[0m \u001b[31m5.0 MB/s\u001b[0m eta \u001b[36m0:00:00\u001b[0m\n",
            "\u001b[?25hRequirement already satisfied: python-dateutil>=2.4 in /usr/local/lib/python3.10/dist-packages (from faker) (2.8.2)\n",
            "Requirement already satisfied: six>=1.5 in /usr/local/lib/python3.10/dist-packages (from python-dateutil>=2.4->faker) (1.16.0)\n",
            "Installing collected packages: faker\n",
            "Successfully installed faker-19.6.1\n",
            "Requirement already satisfied: requests in /usr/local/lib/python3.10/dist-packages (2.31.0)\n",
            "Requirement already satisfied: charset-normalizer<4,>=2 in /usr/local/lib/python3.10/dist-packages (from requests) (3.2.0)\n",
            "Requirement already satisfied: idna<4,>=2.5 in /usr/local/lib/python3.10/dist-packages (from requests) (3.4)\n",
            "Requirement already satisfied: urllib3<3,>=1.21.1 in /usr/local/lib/python3.10/dist-packages (from requests) (2.0.4)\n",
            "Requirement already satisfied: certifi>=2017.4.17 in /usr/local/lib/python3.10/dist-packages (from requests) (2023.7.22)\n",
            "Collecting demoji\n",
            "  Downloading demoji-1.1.0-py3-none-any.whl (42 kB)\n",
            "\u001b[2K     \u001b[90m━━━━━━━━━━━━━━━━━━━━━━━━━━━━━━━━━━━━━━━━\u001b[0m \u001b[32m42.9/42.9 kB\u001b[0m \u001b[31m1.3 MB/s\u001b[0m eta \u001b[36m0:00:00\u001b[0m\n",
            "\u001b[?25hInstalling collected packages: demoji\n",
            "Successfully installed demoji-1.1.0\n",
            "Requirement already satisfied: pandas in /usr/local/lib/python3.10/dist-packages (1.5.3)\n",
            "Requirement already satisfied: python-dateutil>=2.8.1 in /usr/local/lib/python3.10/dist-packages (from pandas) (2.8.2)\n",
            "Requirement already satisfied: pytz>=2020.1 in /usr/local/lib/python3.10/dist-packages (from pandas) (2023.3.post1)\n",
            "Requirement already satisfied: numpy>=1.21.0 in /usr/local/lib/python3.10/dist-packages (from pandas) (1.23.5)\n",
            "Requirement already satisfied: six>=1.5 in /usr/local/lib/python3.10/dist-packages (from python-dateutil>=2.8.1->pandas) (1.16.0)\n",
            "Collecting Unidecode\n",
            "  Downloading Unidecode-1.3.6-py3-none-any.whl (235 kB)\n",
            "\u001b[2K     \u001b[90m━━━━━━━━━━━━━━━━━━━━━━━━━━━━━━━━━━━━━━━\u001b[0m \u001b[32m235.9/235.9 kB\u001b[0m \u001b[31m3.7 MB/s\u001b[0m eta \u001b[36m0:00:00\u001b[0m\n",
            "\u001b[?25hInstalling collected packages: Unidecode\n",
            "Successfully installed Unidecode-1.3.6\n",
            "Requirement already satisfied: beautifulsoup4 in /usr/local/lib/python3.10/dist-packages (4.11.2)\n",
            "Requirement already satisfied: soupsieve>1.2 in /usr/local/lib/python3.10/dist-packages (from beautifulsoup4) (2.5)\n",
            "Collecting scikit-learn==1.3.0\n",
            "  Downloading scikit_learn-1.3.0-cp310-cp310-manylinux_2_17_x86_64.manylinux2014_x86_64.whl (10.8 MB)\n",
            "\u001b[2K     \u001b[90m━━━━━━━━━━━━━━━━━━━━━━━━━━━━━━━━━━━━━━━━\u001b[0m \u001b[32m10.8/10.8 MB\u001b[0m \u001b[31m28.4 MB/s\u001b[0m eta \u001b[36m0:00:00\u001b[0m\n",
            "\u001b[?25hRequirement already satisfied: numpy>=1.17.3 in /usr/local/lib/python3.10/dist-packages (from scikit-learn==1.3.0) (1.23.5)\n",
            "Requirement already satisfied: scipy>=1.5.0 in /usr/local/lib/python3.10/dist-packages (from scikit-learn==1.3.0) (1.11.2)\n",
            "Requirement already satisfied: joblib>=1.1.1 in /usr/local/lib/python3.10/dist-packages (from scikit-learn==1.3.0) (1.3.2)\n",
            "Requirement already satisfied: threadpoolctl>=2.0.0 in /usr/local/lib/python3.10/dist-packages (from scikit-learn==1.3.0) (3.2.0)\n",
            "Installing collected packages: scikit-learn\n",
            "  Attempting uninstall: scikit-learn\n",
            "    Found existing installation: scikit-learn 1.2.2\n",
            "    Uninstalling scikit-learn-1.2.2:\n",
            "      Successfully uninstalled scikit-learn-1.2.2\n",
            "Successfully installed scikit-learn-1.3.0\n",
            "Collecting hdfs\n",
            "  Downloading hdfs-2.7.2.tar.gz (43 kB)\n",
            "\u001b[2K     \u001b[90m━━━━━━━━━━━━━━━━━━━━━━━━━━━━━━━━━━━━━━━\u001b[0m \u001b[32m43.4/43.4 kB\u001b[0m \u001b[31m761.4 kB/s\u001b[0m eta \u001b[36m0:00:00\u001b[0m\n",
            "\u001b[?25h  Preparing metadata (setup.py) ... \u001b[?25l\u001b[?25hdone\n",
            "Collecting docopt (from hdfs)\n",
            "  Downloading docopt-0.6.2.tar.gz (25 kB)\n",
            "  Preparing metadata (setup.py) ... \u001b[?25l\u001b[?25hdone\n",
            "Requirement already satisfied: requests>=2.7.0 in /usr/local/lib/python3.10/dist-packages (from hdfs) (2.31.0)\n",
            "Requirement already satisfied: six>=1.9.0 in /usr/local/lib/python3.10/dist-packages (from hdfs) (1.16.0)\n",
            "Requirement already satisfied: charset-normalizer<4,>=2 in /usr/local/lib/python3.10/dist-packages (from requests>=2.7.0->hdfs) (3.2.0)\n",
            "Requirement already satisfied: idna<4,>=2.5 in /usr/local/lib/python3.10/dist-packages (from requests>=2.7.0->hdfs) (3.4)\n",
            "Requirement already satisfied: urllib3<3,>=1.21.1 in /usr/local/lib/python3.10/dist-packages (from requests>=2.7.0->hdfs) (2.0.4)\n",
            "Requirement already satisfied: certifi>=2017.4.17 in /usr/local/lib/python3.10/dist-packages (from requests>=2.7.0->hdfs) (2023.7.22)\n",
            "Building wheels for collected packages: hdfs, docopt\n",
            "  Building wheel for hdfs (setup.py) ... \u001b[?25l\u001b[?25hdone\n",
            "  Created wheel for hdfs: filename=hdfs-2.7.2-py3-none-any.whl size=34168 sha256=4d89030ee81aa519ee135d81da24e41ed6856fddc47230d0bc5b29b85e4ce84e\n",
            "  Stored in directory: /root/.cache/pip/wheels/ab/39/8e/e1905de9af8ae74911cd3e53e721995cd230816f63776e5825\n",
            "  Building wheel for docopt (setup.py) ... \u001b[?25l\u001b[?25hdone\n",
            "  Created wheel for docopt: filename=docopt-0.6.2-py2.py3-none-any.whl size=13705 sha256=2cc4ef78c93294f929db50773915890a650d3cc3e7db0ac268606f6183055d04\n",
            "  Stored in directory: /root/.cache/pip/wheels/fc/ab/d4/5da2067ac95b36618c629a5f93f809425700506f72c9732fac\n",
            "Successfully built hdfs docopt\n",
            "Installing collected packages: docopt, hdfs\n",
            "Successfully installed docopt-0.6.2 hdfs-2.7.2\n"
          ]
        }
      ]
    },
    {
      "cell_type": "code",
      "source": [
        "# Obtiene datos de propiedades de una fuente externa\n",
        "!python datos_propiedades_externo.py"
      ],
      "metadata": {
        "id": "Z-PsS_m8SDYc",
        "colab": {
          "base_uri": "https://localhost:8080/"
        },
        "outputId": "badfe14b-e196-4c3e-a342-843eb247211b"
      },
      "execution_count": 14,
      "outputs": [
        {
          "output_type": "stream",
          "name": "stdout",
          "text": [
            "Datos guardados en datos/datos_propiedades.csv\n"
          ]
        }
      ]
    },
    {
      "cell_type": "code",
      "source": [
        "# Entrena el modelo de aprendizaje automático\n",
        "!python entrenar_datos.py"
      ],
      "metadata": {
        "id": "K7nVU_6cSXV0",
        "colab": {
          "base_uri": "https://localhost:8080/"
        },
        "outputId": "99882069-4262-491d-9300-6841c93e0bf2"
      },
      "execution_count": 15,
      "outputs": [
        {
          "output_type": "stream",
          "name": "stdout",
          "text": [
            "Error cuadrático medio (MSE): 170631579875000.0\n",
            "Coeficiente de determinación (R^2): 0.9991313797320719\n",
            "\n",
            "Importancia de las variables:\n",
            "Variable Tasa_Inflacion: 0.00010979616747551203\n",
            "Variable Variacion_PIB: 0.00027696108759698223\n",
            "Variable Precio_m2: 0.027704217736966873\n",
            "Variable Tamanho: 0.31889802295345115\n",
            "Variable Habitaciones: 0.6530110020545095\n",
            "Modelo guardado en modelo_random_forest.pkl\n"
          ]
        }
      ]
    },
    {
      "cell_type": "code",
      "source": [
        "# Crea un directorio en Hadoop para almacenar las predicciones\n",
        "!/content/hadoop-3.3.6/bin/hadoop fs -mkdir /predicciones_hdfs"
      ],
      "metadata": {
        "id": "rT9zddc1CKA8"
      },
      "execution_count": 17,
      "outputs": []
    },
    {
      "cell_type": "code",
      "source": [
        "# Implementa el modelo entrenado y datos predichos a HDFS\n",
        "!python predecir_precios.py"
      ],
      "metadata": {
        "id": "g01miLgi9rX-"
      },
      "execution_count": 31,
      "outputs": []
    },
    {
      "cell_type": "code",
      "source": [
        "# Almacenamiento de resultados de prediccion en Hadoop\n",
        "!/usr/local/hadoop-3.3.6/bin/hadoop fs -copyFromLocal /content/prototipo_TF10/datos_predichos /predicciones_hdfs"
      ],
      "metadata": {
        "id": "NImrxuuaGznr"
      },
      "execution_count": 34,
      "outputs": []
    },
    {
      "cell_type": "code",
      "source": [
        "# Lista los archivos que se encuentran en Hadoop\n",
        "!/usr/local/hadoop-3.3.6/bin/hadoop fs -ls /predicciones_hdfs/"
      ],
      "metadata": {
        "colab": {
          "base_uri": "https://localhost:8080/"
        },
        "id": "PxZ77HWML02d",
        "outputId": "7cabccb2-ad03-40c6-825f-04cd5e78171d"
      },
      "execution_count": 36,
      "outputs": [
        {
          "output_type": "stream",
          "name": "stdout",
          "text": [
            "Found 1 items\n",
            "drwxr-xr-x   - root root       4096 2023-09-13 20:11 /predicciones_hdfs/datos_predichos\n"
          ]
        }
      ]
    }
  ]
}