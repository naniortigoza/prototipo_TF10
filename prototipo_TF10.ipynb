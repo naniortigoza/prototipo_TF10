{
  "nbformat": 4,
  "nbformat_minor": 0,
  "metadata": {
    "colab": {
      "provenance": [],
      "authorship_tag": "ABX9TyMKUdWmE104nxKqxMQ0fkZD",
      "include_colab_link": true
    },
    "kernelspec": {
      "name": "python3",
      "display_name": "Python 3"
    },
    "language_info": {
      "name": "python"
    }
  },
  "cells": [
    {
      "cell_type": "markdown",
      "metadata": {
        "id": "view-in-github",
        "colab_type": "text"
      },
      "source": [
        "<a href=\"https://colab.research.google.com/github/naniortigoza/prototipo_TF10/blob/master/prototipo_TF10.ipynb\" target=\"_parent\"><img src=\"https://colab.research.google.com/assets/colab-badge.svg\" alt=\"Open In Colab\"/></a>"
      ]
    },
    {
      "cell_type": "markdown",
      "source": [
        "## Instalación de Hadoop"
      ],
      "metadata": {
        "id": "NaUc1RBtOg7b"
      }
    },
    {
      "cell_type": "code",
      "execution_count": null,
      "metadata": {
        "id": "3fItIvtuztRA"
      },
      "outputs": [],
      "source": [
        "# Descarga Hadoop\n",
        "!wget https://downloads.apache.org/hadoop/common/hadoop-3.3.6/hadoop-3.3.6.tar.gz"
      ]
    },
    {
      "cell_type": "code",
      "source": [
        "# Descomprime el archivo\n",
        "!tar -xzvf hadoop-3.3.6.tar.gz"
      ],
      "metadata": {
        "id": "CtOEpXyW0kAj"
      },
      "execution_count": null,
      "outputs": []
    },
    {
      "cell_type": "code",
      "source": [
        "# Elimina el archivo comprimido\n",
        "!rm hadoop-3.3.6.tar.gz"
      ],
      "metadata": {
        "id": "qLc_YgSP0pwO"
      },
      "execution_count": 3,
      "outputs": []
    },
    {
      "cell_type": "code",
      "source": [
        "# Encuentra la ruta de Java\n",
        "!readlink -f /usr/bin/java | sed \"s:bin/java::\""
      ],
      "metadata": {
        "id": "2tA1fKA60yBl",
        "colab": {
          "base_uri": "https://localhost:8080/"
        },
        "outputId": "f9abcb7e-eb61-4ab8-a5ca-595d4d750e25"
      },
      "execution_count": 4,
      "outputs": [
        {
          "output_type": "stream",
          "name": "stdout",
          "text": [
            "/usr/lib/jvm/java-11-openjdk-amd64/\n"
          ]
        }
      ]
    },
    {
      "cell_type": "code",
      "source": [
        "# Configura la variable de entorno JAVA_HOME\n",
        "import os\n",
        "os.environ[\"JAVA_HOME\"] = \"/usr/lib/jvm/java-11-openjdk-amd64/\""
      ],
      "metadata": {
        "id": "AqIUyd6Q3XYz"
      },
      "execution_count": 5,
      "outputs": []
    },
    {
      "cell_type": "code",
      "source": [
        "# Copia Hadoop a /usr/local\n",
        "!cp -r hadoop-3.3.6/ /usr/local/"
      ],
      "metadata": {
        "id": "rVI72AXB01oS"
      },
      "execution_count": 6,
      "outputs": []
    },
    {
      "cell_type": "code",
      "source": [
        "# Genera una clave SSH para la comunicación segura entre los nodos del clúster\n",
        "!ssh-keygen -t rsa -P '' -f ~/.ssh/id_rsa\n",
        "# Agrega la clave pública SSH a authorized_keys\n",
        "!cat ~/.ssh/id_rsa.pub >> ~/.ssh/authorized_keys\n",
        "# Cambia los permisos de authorized_keys\n",
        "!chmod 0600 ~/.ssh/authorized_keys"
      ],
      "metadata": {
        "id": "u3jj3Ytr2sBg"
      },
      "execution_count": null,
      "outputs": []
    },
    {
      "cell_type": "code",
      "source": [
        "# Formatea el NameNode\n",
        "!/usr/local/hadoop-3.3.6/bin/hdfs namenode -format"
      ],
      "metadata": {
        "id": "zTdvpO_I2vkJ"
      },
      "execution_count": null,
      "outputs": []
    },
    {
      "cell_type": "code",
      "source": [
        "# Inicia servicios de Hadoop y YARN\n",
        "%%bash\n",
        "/usr/local/hadoop-3.3.6/bin/hdfs --daemon start namenode && /usr/local/hadoop-3.3.6/bin/hdfs --daemon start datanode\n",
        "/usr/local/hadoop-3.3.6/bin/yarn --daemon start resourcemanager && /usr/local/hadoop-3.3.6/bin/yarn --daemon start nodemanager"
      ],
      "metadata": {
        "id": "PlESNshD28U8"
      },
      "execution_count": 9,
      "outputs": []
    },
    {
      "cell_type": "code",
      "source": [
        "# Verifica los procesos en ejecución\n",
        "!jps"
      ],
      "metadata": {
        "id": "bKbHxa0X3g03"
      },
      "execution_count": null,
      "outputs": []
    },
    {
      "cell_type": "markdown",
      "source": [
        "## Clonar el repositorio GitHub\n",
        "Que contiene: Preparación de los Datos, Entrenamiento del Modelo, Evaluación del Modelo, Predicciones y Exportación de Resultados"
      ],
      "metadata": {
        "id": "DM3XDqQGQfeO"
      }
    },
    {
      "cell_type": "code",
      "source": [
        "# Clona un repositorio de GitHub\n",
        "!git clone https://github.com/naniortigoza/prototipo_TF10.git"
      ],
      "metadata": {
        "id": "Cuyj8_93P5Iz"
      },
      "execution_count": null,
      "outputs": []
    },
    {
      "cell_type": "code",
      "source": [
        "# Cambia el directorio de trabajo actual a la carpeta recién clonada\n",
        "%cd prototipo_TF10/"
      ],
      "metadata": {
        "id": "XO_mxZsuQzE5"
      },
      "execution_count": null,
      "outputs": []
    },
    {
      "cell_type": "code",
      "source": [
        "# Instala paquetes Python necesarios\n",
        "!pip install faker\n",
        "!pip install requests\n",
        "!pip install demoji\n",
        "!pip install pandas\n",
        "!pip install Unidecode\n",
        "!pip install beautifulsoup4\n",
        "!pip install scikit-learn==1.3.0"
      ],
      "metadata": {
        "id": "CoEoEYyBQ4Nv"
      },
      "execution_count": null,
      "outputs": []
    },
    {
      "cell_type": "markdown",
      "source": [
        "## Obtener y procesador datos"
      ],
      "metadata": {
        "id": "-O9aErz1Msxb"
      }
    },
    {
      "cell_type": "code",
      "source": [
        "# Obtiene datos de propiedades de una fuente externa\n",
        "!python datos_propiedades_externo.py"
      ],
      "metadata": {
        "id": "Z-PsS_m8SDYc"
      },
      "execution_count": null,
      "outputs": []
    },
    {
      "cell_type": "code",
      "source": [
        "# Entrena el modelo de aprendizaje automático\n",
        "!python entrenar_datos.py"
      ],
      "metadata": {
        "id": "K7nVU_6cSXV0"
      },
      "execution_count": null,
      "outputs": []
    },
    {
      "cell_type": "code",
      "source": [
        "# Crea un directorio en Hadoop para almacenar las predicciones\n",
        "!/content/hadoop-3.3.6/bin/hadoop fs -mkdir /predicciones_hdfs"
      ],
      "metadata": {
        "id": "rT9zddc1CKA8"
      },
      "execution_count": 17,
      "outputs": []
    },
    {
      "cell_type": "code",
      "source": [
        "# Implementa el modelo entrenado y datos predichos a HDFS\n",
        "!python predecir_precios.py"
      ],
      "metadata": {
        "id": "g01miLgi9rX-"
      },
      "execution_count": 31,
      "outputs": []
    },
    {
      "cell_type": "markdown",
      "source": [
        "## Almacenamiento de datos"
      ],
      "metadata": {
        "id": "axtqxrDIMwmf"
      }
    },
    {
      "cell_type": "code",
      "source": [
        "# Almacenamiento de resultados de prediccion en Hadoop\n",
        "!/usr/local/hadoop-3.3.6/bin/hadoop fs -copyFromLocal /content/prototipo_TF10/datos_predichos /predicciones_hdfs"
      ],
      "metadata": {
        "id": "NImrxuuaGznr"
      },
      "execution_count": 34,
      "outputs": []
    },
    {
      "cell_type": "code",
      "source": [
        "# Lista los archivos que se encuentran en Hadoop\n",
        "!/usr/local/hadoop-3.3.6/bin/hadoop fs -ls /predicciones_hdfs/"
      ],
      "metadata": {
        "colab": {
          "base_uri": "https://localhost:8080/"
        },
        "id": "PxZ77HWML02d",
        "outputId": "7cabccb2-ad03-40c6-825f-04cd5e78171d"
      },
      "execution_count": 36,
      "outputs": [
        {
          "output_type": "stream",
          "name": "stdout",
          "text": [
            "Found 1 items\n",
            "drwxr-xr-x   - root root       4096 2023-09-13 20:11 /predicciones_hdfs/datos_predichos\n"
          ]
        }
      ]
    }
  ]
}